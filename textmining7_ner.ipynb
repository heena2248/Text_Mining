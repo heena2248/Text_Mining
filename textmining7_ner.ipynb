{
  "nbformat": 4,
  "nbformat_minor": 0,
  "metadata": {
    "colab": {
      "provenance": [],
      "gpuType": "T4",
      "authorship_tag": "ABX9TyMWQHipMqhExolzYXT4AmYI",
      "include_colab_link": true
    },
    "kernelspec": {
      "name": "python3",
      "display_name": "Python 3"
    },
    "language_info": {
      "name": "python"
    },
    "accelerator": "GPU"
  },
  "cells": [
    {
      "cell_type": "markdown",
      "metadata": {
        "id": "view-in-github",
        "colab_type": "text"
      },
      "source": [
        "<a href=\"https://colab.research.google.com/github/heena2248/Text_Mining/blob/main/textmining7_ner.ipynb\" target=\"_parent\"><img src=\"https://colab.research.google.com/assets/colab-badge.svg\" alt=\"Open In Colab\"/></a>"
      ]
    },
    {
      "cell_type": "markdown",
      "source": [
        "\n",
        "\n",
        "### NER\n",
        "\n"
      ],
      "metadata": {
        "id": "q1jwTKnJ7y_l"
      }
    },
    {
      "cell_type": "markdown",
      "source": [
        "Using Spacy"
      ],
      "metadata": {
        "id": "XRmbuF_R9jqC"
      }
    },
    {
      "cell_type": "code",
      "execution_count": null,
      "metadata": {
        "colab": {
          "base_uri": "https://localhost:8080/"
        },
        "id": "YHr1YH3o7ty1",
        "outputId": "2e772e11-aed0-4cb1-bd4b-fd7de110fefa"
      },
      "outputs": [
        {
          "output_type": "stream",
          "name": "stdout",
          "text": [
            "Apple ORG\n",
            "U.K. GPE\n",
            "$1 billion MONEY\n"
          ]
        }
      ],
      "source": [
        "import spacy\n",
        "\n",
        "# Load the English NLP model\n",
        "nlp = spacy.load('en_core_web_sm')\n",
        "\n",
        "doc = nlp(\"Apple is looking at buying U.K. startup for $1 billion\")\n",
        "for ent in doc.ents:\n",
        "    print(ent.text, ent.label_)"
      ]
    },
    {
      "cell_type": "code",
      "source": [
        "doc=\"The World Health Organization (WHO)[1] is a specialized agency of the United Nations responsible for international public health.[2] The WHO Constitution states its main objective as 'the attainment by all peoples of the highest possible level of health'.[3] Headquartered in Geneva, Switzerland, it has six regional offices and 150 field offices worldwide. The WHO was established on 7 April 1948.[4][5] The first meeting of the World Health Assembly (WHA), the agency's governing body, took place on 24 July of that year. The WHO incorporated the assets, personnel, and duties of the League of Nations' Health Organization and the Office International d'Hygiène Publique, including the International Classification of Diseases (ICD).[6] Its work began in earnest in 1951 after a significant infusion of financial and technical resources.[7]\""
      ],
      "metadata": {
        "id": "F0biOdHu86Ya"
      },
      "execution_count": null,
      "outputs": []
    },
    {
      "cell_type": "code",
      "source": [
        "spacy.cli.download(\"en_core_web_sm\")\n",
        "NER = spacy.load(\"en_core_web_sm\")\n",
        "\n",
        "def spacy_large_ner(document):\n",
        "  return {(ent.text.strip(), ent.label_) for ent in NER(document).ents}"
      ],
      "metadata": {
        "colab": {
          "base_uri": "https://localhost:8080/"
        },
        "id": "wLAafXzM7yh7",
        "outputId": "30f753ae-e432-4402-8029-0665108d25c2"
      },
      "execution_count": null,
      "outputs": [
        {
          "output_type": "stream",
          "name": "stdout",
          "text": [
            "\u001b[38;5;2m✔ Download and installation successful\u001b[0m\n",
            "You can now load the package via spacy.load('en_core_web_sm')\n",
            "\u001b[38;5;3m⚠ Restart to reload dependencies\u001b[0m\n",
            "If you are in a Jupyter or Colab notebook, you may need to restart Python in\n",
            "order to load all the package's dependencies. You can do this by selecting the\n",
            "'Restart kernel' or 'Restart runtime' option.\n"
          ]
        },
        {
          "output_type": "stream",
          "name": "stderr",
          "text": [
            "/usr/local/lib/python3.10/dist-packages/spacy/util.py:1740: UserWarning: [W111] Jupyter notebook detected: if using `prefer_gpu()` or `require_gpu()`, include it in the same cell right before `spacy.load()` to ensure that the model is loaded on the correct device. More information: http://spacy.io/usage/v3#jupyter-notebook-gpu\n",
            "  warnings.warn(Warnings.W111)\n"
          ]
        }
      ]
    },
    {
      "cell_type": "code",
      "source": [
        "spacy_large_ner(doc)"
      ],
      "metadata": {
        "colab": {
          "base_uri": "https://localhost:8080/"
        },
        "id": "ZxqZXd149Jop",
        "outputId": "59951c8b-ce3a-4821-c0aa-9f7d42898cd8"
      },
      "execution_count": null,
      "outputs": [
        {
          "output_type": "execute_result",
          "data": {
            "text/plain": [
              "{('150', 'CARDINAL'),\n",
              " ('1951', 'DATE'),\n",
              " ('24 July of that year', 'DATE'),\n",
              " ('7 April 1948.[4][5', 'DATE'),\n",
              " ('Geneva', 'GPE'),\n",
              " ('Switzerland', 'GPE'),\n",
              " ('The World Health Organization', 'ORG'),\n",
              " ('WHA', 'ORG'),\n",
              " ('WHO', 'ORG'),\n",
              " ('first', 'ORDINAL'),\n",
              " (\"health'.[3]\", 'ORG'),\n",
              " ('six', 'CARDINAL'),\n",
              " ('the International Classification of Diseases', 'ORG'),\n",
              " (\"the League of Nations' Health Organization\", 'ORG'),\n",
              " (\"the Office International d'Hygiène Publique\", 'ORG'),\n",
              " ('the United Nations', 'ORG'),\n",
              " ('the World Health Assembly', 'ORG')}"
            ]
          },
          "metadata": {},
          "execution_count": 4
        }
      ]
    },
    {
      "cell_type": "code",
      "source": [
        "spacy.explain(\"ORG\")"
      ],
      "metadata": {
        "colab": {
          "base_uri": "https://localhost:8080/",
          "height": 36
        },
        "id": "kKWIgWzB9K2o",
        "outputId": "ebc37b6c-6057-4063-9bec-eeca321d16e1"
      },
      "execution_count": null,
      "outputs": [
        {
          "output_type": "execute_result",
          "data": {
            "text/plain": [
              "'Companies, agencies, institutions, etc.'"
            ],
            "application/vnd.google.colaboratory.intrinsic+json": {
              "type": "string"
            }
          },
          "metadata": {},
          "execution_count": 5
        }
      ]
    },
    {
      "cell_type": "code",
      "source": [
        "from spacy import displacy\n",
        "displacy.render(NER(doc),style=\"ent\",jupyter=True)"
      ],
      "metadata": {
        "colab": {
          "base_uri": "https://localhost:8080/",
          "height": 192
        },
        "id": "T-ydjY9A9UAp",
        "outputId": "e247eec5-a89b-4d69-887d-dd0eba064f3b"
      },
      "execution_count": null,
      "outputs": [
        {
          "output_type": "display_data",
          "data": {
            "text/plain": [
              "<IPython.core.display.HTML object>"
            ],
            "text/html": [
              "<span class=\"tex2jax_ignore\"><div class=\"entities\" style=\"line-height: 2.5; direction: ltr\">\n",
              "<mark class=\"entity\" style=\"background: #7aecec; padding: 0.45em 0.6em; margin: 0 0.25em; line-height: 1; border-radius: 0.35em;\">\n",
              "    The World Health Organization\n",
              "    <span style=\"font-size: 0.8em; font-weight: bold; line-height: 1; border-radius: 0.35em; vertical-align: middle; margin-left: 0.5rem\">ORG</span>\n",
              "</mark>\n",
              " (WHO)[1] is a specialized agency of \n",
              "<mark class=\"entity\" style=\"background: #7aecec; padding: 0.45em 0.6em; margin: 0 0.25em; line-height: 1; border-radius: 0.35em;\">\n",
              "    the United Nations\n",
              "    <span style=\"font-size: 0.8em; font-weight: bold; line-height: 1; border-radius: 0.35em; vertical-align: middle; margin-left: 0.5rem\">ORG</span>\n",
              "</mark>\n",
              " responsible for international public health.[2] The WHO Constitution states its main objective as 'the attainment by all peoples of the highest possible level of \n",
              "<mark class=\"entity\" style=\"background: #7aecec; padding: 0.45em 0.6em; margin: 0 0.25em; line-height: 1; border-radius: 0.35em;\">\n",
              "    health'.[3]\n",
              "    <span style=\"font-size: 0.8em; font-weight: bold; line-height: 1; border-radius: 0.35em; vertical-align: middle; margin-left: 0.5rem\">ORG</span>\n",
              "</mark>\n",
              " Headquartered in \n",
              "<mark class=\"entity\" style=\"background: #feca74; padding: 0.45em 0.6em; margin: 0 0.25em; line-height: 1; border-radius: 0.35em;\">\n",
              "    Geneva\n",
              "    <span style=\"font-size: 0.8em; font-weight: bold; line-height: 1; border-radius: 0.35em; vertical-align: middle; margin-left: 0.5rem\">GPE</span>\n",
              "</mark>\n",
              ", \n",
              "<mark class=\"entity\" style=\"background: #feca74; padding: 0.45em 0.6em; margin: 0 0.25em; line-height: 1; border-radius: 0.35em;\">\n",
              "    Switzerland\n",
              "    <span style=\"font-size: 0.8em; font-weight: bold; line-height: 1; border-radius: 0.35em; vertical-align: middle; margin-left: 0.5rem\">GPE</span>\n",
              "</mark>\n",
              ", it has \n",
              "<mark class=\"entity\" style=\"background: #e4e7d2; padding: 0.45em 0.6em; margin: 0 0.25em; line-height: 1; border-radius: 0.35em;\">\n",
              "    six\n",
              "    <span style=\"font-size: 0.8em; font-weight: bold; line-height: 1; border-radius: 0.35em; vertical-align: middle; margin-left: 0.5rem\">CARDINAL</span>\n",
              "</mark>\n",
              " regional offices and \n",
              "<mark class=\"entity\" style=\"background: #e4e7d2; padding: 0.45em 0.6em; margin: 0 0.25em; line-height: 1; border-radius: 0.35em;\">\n",
              "    150\n",
              "    <span style=\"font-size: 0.8em; font-weight: bold; line-height: 1; border-radius: 0.35em; vertical-align: middle; margin-left: 0.5rem\">CARDINAL</span>\n",
              "</mark>\n",
              " field offices worldwide. The \n",
              "<mark class=\"entity\" style=\"background: #7aecec; padding: 0.45em 0.6em; margin: 0 0.25em; line-height: 1; border-radius: 0.35em;\">\n",
              "    WHO\n",
              "    <span style=\"font-size: 0.8em; font-weight: bold; line-height: 1; border-radius: 0.35em; vertical-align: middle; margin-left: 0.5rem\">ORG</span>\n",
              "</mark>\n",
              " was established on \n",
              "<mark class=\"entity\" style=\"background: #bfe1d9; padding: 0.45em 0.6em; margin: 0 0.25em; line-height: 1; border-radius: 0.35em;\">\n",
              "    7 April 1948.[4][5\n",
              "    <span style=\"font-size: 0.8em; font-weight: bold; line-height: 1; border-radius: 0.35em; vertical-align: middle; margin-left: 0.5rem\">DATE</span>\n",
              "</mark>\n",
              "] The \n",
              "<mark class=\"entity\" style=\"background: #e4e7d2; padding: 0.45em 0.6em; margin: 0 0.25em; line-height: 1; border-radius: 0.35em;\">\n",
              "    first\n",
              "    <span style=\"font-size: 0.8em; font-weight: bold; line-height: 1; border-radius: 0.35em; vertical-align: middle; margin-left: 0.5rem\">ORDINAL</span>\n",
              "</mark>\n",
              " meeting of \n",
              "<mark class=\"entity\" style=\"background: #7aecec; padding: 0.45em 0.6em; margin: 0 0.25em; line-height: 1; border-radius: 0.35em;\">\n",
              "    the World Health Assembly\n",
              "    <span style=\"font-size: 0.8em; font-weight: bold; line-height: 1; border-radius: 0.35em; vertical-align: middle; margin-left: 0.5rem\">ORG</span>\n",
              "</mark>\n",
              " (\n",
              "<mark class=\"entity\" style=\"background: #7aecec; padding: 0.45em 0.6em; margin: 0 0.25em; line-height: 1; border-radius: 0.35em;\">\n",
              "    WHA\n",
              "    <span style=\"font-size: 0.8em; font-weight: bold; line-height: 1; border-radius: 0.35em; vertical-align: middle; margin-left: 0.5rem\">ORG</span>\n",
              "</mark>\n",
              "), the agency's governing body, took place on \n",
              "<mark class=\"entity\" style=\"background: #bfe1d9; padding: 0.45em 0.6em; margin: 0 0.25em; line-height: 1; border-radius: 0.35em;\">\n",
              "    24 July of that year\n",
              "    <span style=\"font-size: 0.8em; font-weight: bold; line-height: 1; border-radius: 0.35em; vertical-align: middle; margin-left: 0.5rem\">DATE</span>\n",
              "</mark>\n",
              ". The \n",
              "<mark class=\"entity\" style=\"background: #7aecec; padding: 0.45em 0.6em; margin: 0 0.25em; line-height: 1; border-radius: 0.35em;\">\n",
              "    WHO\n",
              "    <span style=\"font-size: 0.8em; font-weight: bold; line-height: 1; border-radius: 0.35em; vertical-align: middle; margin-left: 0.5rem\">ORG</span>\n",
              "</mark>\n",
              " incorporated the assets, personnel, and duties of \n",
              "<mark class=\"entity\" style=\"background: #7aecec; padding: 0.45em 0.6em; margin: 0 0.25em; line-height: 1; border-radius: 0.35em;\">\n",
              "    the League of Nations' Health Organization\n",
              "    <span style=\"font-size: 0.8em; font-weight: bold; line-height: 1; border-radius: 0.35em; vertical-align: middle; margin-left: 0.5rem\">ORG</span>\n",
              "</mark>\n",
              " and \n",
              "<mark class=\"entity\" style=\"background: #7aecec; padding: 0.45em 0.6em; margin: 0 0.25em; line-height: 1; border-radius: 0.35em;\">\n",
              "    the Office International d'Hygiène Publique\n",
              "    <span style=\"font-size: 0.8em; font-weight: bold; line-height: 1; border-radius: 0.35em; vertical-align: middle; margin-left: 0.5rem\">ORG</span>\n",
              "</mark>\n",
              ", including \n",
              "<mark class=\"entity\" style=\"background: #7aecec; padding: 0.45em 0.6em; margin: 0 0.25em; line-height: 1; border-radius: 0.35em;\">\n",
              "    the International Classification of Diseases\n",
              "    <span style=\"font-size: 0.8em; font-weight: bold; line-height: 1; border-radius: 0.35em; vertical-align: middle; margin-left: 0.5rem\">ORG</span>\n",
              "</mark>\n",
              " (ICD).[6] Its work began in earnest in \n",
              "<mark class=\"entity\" style=\"background: #bfe1d9; padding: 0.45em 0.6em; margin: 0 0.25em; line-height: 1; border-radius: 0.35em;\">\n",
              "    1951\n",
              "    <span style=\"font-size: 0.8em; font-weight: bold; line-height: 1; border-radius: 0.35em; vertical-align: middle; margin-left: 0.5rem\">DATE</span>\n",
              "</mark>\n",
              " after a significant infusion of financial and technical resources.[7]</div></span>"
            ]
          },
          "metadata": {}
        }
      ]
    },
    {
      "cell_type": "markdown",
      "source": [
        "Stanford NER Tagger"
      ],
      "metadata": {
        "id": "lv-QrBvQ9ly-"
      }
    },
    {
      "cell_type": "code",
      "source": [
        "!pip3 install nltk==3.2.4\n",
        "!wget http://nlp.stanford.edu/software/stanford-ner-2015-04-20.zip\n",
        "!unzip stanford-ner-2015-04-20.zip"
      ],
      "metadata": {
        "colab": {
          "base_uri": "https://localhost:8080/"
        },
        "id": "SJ_4JDLc9Xip",
        "outputId": "bd7df042-9e70-45f9-ccac-6ac35e65b3e7"
      },
      "execution_count": null,
      "outputs": [
        {
          "output_type": "stream",
          "name": "stdout",
          "text": [
            "Requirement already satisfied: nltk==3.2.4 in /usr/local/lib/python3.10/dist-packages (3.2.4)\n",
            "Requirement already satisfied: six in /usr/local/lib/python3.10/dist-packages (from nltk==3.2.4) (1.16.0)\n",
            "--2024-10-08 12:05:56--  http://nlp.stanford.edu/software/stanford-ner-2015-04-20.zip\n",
            "Resolving nlp.stanford.edu (nlp.stanford.edu)... 171.64.67.140\n",
            "Connecting to nlp.stanford.edu (nlp.stanford.edu)|171.64.67.140|:80... connected.\n",
            "HTTP request sent, awaiting response... 302 Found\n",
            "Location: https://nlp.stanford.edu/software/stanford-ner-2015-04-20.zip [following]\n",
            "--2024-10-08 12:05:56--  https://nlp.stanford.edu/software/stanford-ner-2015-04-20.zip\n",
            "Connecting to nlp.stanford.edu (nlp.stanford.edu)|171.64.67.140|:443... connected.\n",
            "HTTP request sent, awaiting response... 302 FOUND\n",
            "Location: https://downloads.cs.stanford.edu/nlp/software/stanford-ner-2015-04-20.zip [following]\n",
            "--2024-10-08 12:05:57--  https://downloads.cs.stanford.edu/nlp/software/stanford-ner-2015-04-20.zip\n",
            "Resolving downloads.cs.stanford.edu (downloads.cs.stanford.edu)... 171.64.64.22\n",
            "Connecting to downloads.cs.stanford.edu (downloads.cs.stanford.edu)|171.64.64.22|:443... connected.\n",
            "HTTP request sent, awaiting response... 200 OK\n",
            "Length: 176961718 (169M) [application/zip]\n",
            "Saving to: ‘stanford-ner-2015-04-20.zip.1’\n",
            "\n",
            "stanford-ner-2015-0 100%[===================>] 168.76M  5.11MB/s    in 32s     \n",
            "\n",
            "2024-10-08 12:06:30 (5.27 MB/s) - ‘stanford-ner-2015-04-20.zip.1’ saved [176961718/176961718]\n",
            "\n",
            "Archive:  stanford-ner-2015-04-20.zip\n",
            "replace stanford-ner-2015-04-20/README.txt? [y]es, [n]o, [A]ll, [N]one, [r]ename: "
          ]
        }
      ]
    },
    {
      "cell_type": "code",
      "source": [
        "from nltk.tag.stanford import StanfordNERTagger\n",
        "jar = \"stanford-ner-2015-04-20/stanford-ner-3.5.2.jar\"\n",
        "model = \"stanford-ner-2015-04-20/classifiers/\"\n",
        "st_4class = StanfordNERTagger(model + \"english.conll.4class.distsim.crf.ser.gz\", jar, encoding='utf8')"
      ],
      "metadata": {
        "id": "RgKX0GXs9oxp"
      },
      "execution_count": null,
      "outputs": []
    },
    {
      "cell_type": "code",
      "source": [
        "st_4class.tag(doc.split())"
      ],
      "metadata": {
        "colab": {
          "base_uri": "https://localhost:8080/"
        },
        "id": "Tu873lpr9rHo",
        "outputId": "f953b570-5872-418b-cea1-aa570ee8b553"
      },
      "execution_count": null,
      "outputs": [
        {
          "output_type": "execute_result",
          "data": {
            "text/plain": [
              "[('The', 'O'),\n",
              " ('World', 'ORGANIZATION'),\n",
              " ('Health', 'ORGANIZATION'),\n",
              " ('Organization', 'ORGANIZATION'),\n",
              " ('(WHO)[1]', 'ORGANIZATION'),\n",
              " ('is', 'O'),\n",
              " ('a', 'O'),\n",
              " ('specialized', 'O'),\n",
              " ('agency', 'O'),\n",
              " ('of', 'O'),\n",
              " ('the', 'O'),\n",
              " ('United', 'ORGANIZATION'),\n",
              " ('Nations', 'ORGANIZATION'),\n",
              " ('responsible', 'O'),\n",
              " ('for', 'O'),\n",
              " ('international', 'O'),\n",
              " ('public', 'O'),\n",
              " ('health.[2]', 'O'),\n",
              " ('The', 'O'),\n",
              " ('WHO', 'ORGANIZATION'),\n",
              " ('Constitution', 'ORGANIZATION'),\n",
              " ('states', 'O'),\n",
              " ('its', 'O'),\n",
              " ('main', 'O'),\n",
              " ('objective', 'O'),\n",
              " ('as', 'O'),\n",
              " (\"'the\", 'O'),\n",
              " ('attainment', 'O'),\n",
              " ('by', 'O'),\n",
              " ('all', 'O'),\n",
              " ('peoples', 'O'),\n",
              " ('of', 'O'),\n",
              " ('the', 'O'),\n",
              " ('highest', 'O'),\n",
              " ('possible', 'O'),\n",
              " ('level', 'O'),\n",
              " ('of', 'O'),\n",
              " (\"health'.[3]\", 'O'),\n",
              " ('Headquartered', 'LOCATION'),\n",
              " ('in', 'O'),\n",
              " ('Geneva,', 'O'),\n",
              " ('Switzerland,', 'O'),\n",
              " ('it', 'O'),\n",
              " ('has', 'O'),\n",
              " ('six', 'O'),\n",
              " ('regional', 'O'),\n",
              " ('offices', 'O'),\n",
              " ('and', 'O'),\n",
              " ('150', 'O'),\n",
              " ('field', 'O'),\n",
              " ('offices', 'O'),\n",
              " ('worldwide.', 'O'),\n",
              " ('The', 'O'),\n",
              " ('WHO', 'O'),\n",
              " ('was', 'O'),\n",
              " ('established', 'O'),\n",
              " ('on', 'O'),\n",
              " ('7', 'O'),\n",
              " ('April', 'O'),\n",
              " ('1948.[4][5]', 'O'),\n",
              " ('The', 'O'),\n",
              " ('first', 'O'),\n",
              " ('meeting', 'O'),\n",
              " ('of', 'O'),\n",
              " ('the', 'O'),\n",
              " ('World', 'ORGANIZATION'),\n",
              " ('Health', 'ORGANIZATION'),\n",
              " ('Assembly', 'ORGANIZATION'),\n",
              " ('(WHA),', 'O'),\n",
              " ('the', 'O'),\n",
              " (\"agency's\", 'O'),\n",
              " ('governing', 'O'),\n",
              " ('body,', 'O'),\n",
              " ('took', 'O'),\n",
              " ('place', 'O'),\n",
              " ('on', 'O'),\n",
              " ('24', 'O'),\n",
              " ('July', 'O'),\n",
              " ('of', 'O'),\n",
              " ('that', 'O'),\n",
              " ('year.', 'O'),\n",
              " ('The', 'O'),\n",
              " ('WHO', 'O'),\n",
              " ('incorporated', 'O'),\n",
              " ('the', 'O'),\n",
              " ('assets,', 'O'),\n",
              " ('personnel,', 'O'),\n",
              " ('and', 'O'),\n",
              " ('duties', 'O'),\n",
              " ('of', 'O'),\n",
              " ('the', 'O'),\n",
              " ('League', 'ORGANIZATION'),\n",
              " ('of', 'ORGANIZATION'),\n",
              " (\"Nations'\", 'ORGANIZATION'),\n",
              " ('Health', 'ORGANIZATION'),\n",
              " ('Organization', 'ORGANIZATION'),\n",
              " ('and', 'O'),\n",
              " ('the', 'O'),\n",
              " ('Office', 'MISC'),\n",
              " ('International', 'MISC'),\n",
              " (\"d'Hygiène\", 'MISC'),\n",
              " ('Publique,', 'MISC'),\n",
              " ('including', 'O'),\n",
              " ('the', 'O'),\n",
              " ('International', 'MISC'),\n",
              " ('Classification', 'MISC'),\n",
              " ('of', 'MISC'),\n",
              " ('Diseases', 'MISC'),\n",
              " ('(ICD).[6]', 'O'),\n",
              " ('Its', 'O'),\n",
              " ('work', 'O'),\n",
              " ('began', 'O'),\n",
              " ('in', 'O'),\n",
              " ('earnest', 'O'),\n",
              " ('in', 'O'),\n",
              " ('1951', 'O'),\n",
              " ('after', 'O'),\n",
              " ('a', 'O'),\n",
              " ('significant', 'O'),\n",
              " ('infusion', 'O'),\n",
              " ('of', 'O'),\n",
              " ('financial', 'O'),\n",
              " ('and', 'O'),\n",
              " ('technical', 'O'),\n",
              " ('resources.[7]', 'O')]"
            ]
          },
          "metadata": {},
          "execution_count": 9
        }
      ]
    },
    {
      "cell_type": "markdown",
      "source": [
        "NLTK"
      ],
      "metadata": {
        "id": "VLZp3x26_P_h"
      }
    },
    {
      "cell_type": "code",
      "source": [
        "import nltk\n",
        "from nltk import word_tokenize, pos_tag, ne_chunk\n",
        "\n",
        "# Download necessary NLTK resources\n",
        "nltk.download('punkt')\n",
        "nltk.download('maxent_ne_chunker')\n",
        "nltk.download('words')\n",
        "nltk.download('averaged_perceptron_tagger')\n",
        "\n",
        "# Sample text\n",
        "text = \"Apple is looking at buying U.K. startup for $1 billion.\"\n",
        "\n",
        "# Tokenize the text\n",
        "tokens = word_tokenize(text)\n",
        "\n",
        "# Part of speech tagging\n",
        "pos_tags = pos_tag(tokens)\n",
        "\n",
        "# Named entity recognition\n",
        "named_entities = ne_chunk(pos_tags)\n",
        "\n",
        "# Print the named entities\n",
        "print(named_entities)"
      ],
      "metadata": {
        "colab": {
          "base_uri": "https://localhost:8080/"
        },
        "id": "E0InX1XW9vnZ",
        "outputId": "ab261e75-b310-4114-b8dd-4d262a124e08"
      },
      "execution_count": null,
      "outputs": [
        {
          "output_type": "stream",
          "name": "stdout",
          "text": [
            "[nltk_data] Downloading package punkt to /root/nltk_data...\n",
            "[nltk_data]   Package punkt is already up-to-date!\n",
            "[nltk_data] Downloading package maxent_ne_chunker to\n",
            "[nltk_data]     /root/nltk_data...\n",
            "[nltk_data]   Package maxent_ne_chunker is already up-to-date!\n",
            "[nltk_data] Downloading package words to /root/nltk_data...\n",
            "[nltk_data]   Package words is already up-to-date!\n",
            "[nltk_data] Downloading package averaged_perceptron_tagger to\n",
            "[nltk_data]     /root/nltk_data...\n",
            "[nltk_data]   Package averaged_perceptron_tagger is already up-to-\n",
            "[nltk_data]       date!\n",
            "(S\n",
            "  (GPE Apple/NNP)\n",
            "  is/VBZ\n",
            "  looking/VBG\n",
            "  at/IN\n",
            "  buying/VBG\n",
            "  U.K./NNP\n",
            "  startup/NN\n",
            "  for/IN\n",
            "  $/$\n",
            "  1/CD\n",
            "  billion/CD\n",
            "  ./.)\n"
          ]
        }
      ]
    },
    {
      "cell_type": "code",
      "source": [],
      "metadata": {
        "id": "811LJOLF_sy5"
      },
      "execution_count": null,
      "outputs": []
    }
  ]
}